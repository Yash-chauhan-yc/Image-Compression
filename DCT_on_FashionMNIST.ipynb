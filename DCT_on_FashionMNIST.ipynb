{
  "nbformat": 4,
  "nbformat_minor": 0,
  "metadata": {
    "colab": {
      "name": "DCT_on_FashionMNIST.ipynb",
      "provenance": [],
      "collapsed_sections": []
    },
    "kernelspec": {
      "name": "python3",
      "display_name": "Python 3"
    },
    "language_info": {
      "name": "python"
    },
    "gpuClass": "standard",
    "accelerator": "GPU"
  },
  "cells": [
    {
      "cell_type": "markdown",
      "source": [
        "##DISCRETE COSINE TRANSFORM(DCT)\n",
        "###This section demonstrates the Discrete Cosine Transform of an fashion_mnist dataset. As in the Jpeg standard the DCT is performed blockwise. The entire image is partitioned into non-overlapping blocks of size (8x8) pixels. The transformed image is backtransformed by applying the Inverse Discrete Cosine Transform (IDCT). The reconstructed image is identical to the original image"
      ],
      "metadata": {
        "id": "v0wcajh8oySI"
      }
    },
    {
      "cell_type": "markdown",
      "source": [
        "###Importing essential libraries"
      ],
      "metadata": {
        "id": "8l7IhFVto3_Q"
      }
    },
    {
      "cell_type": "code",
      "source": [
        "import cv2\n",
        "import numpy as np\n",
        "from matplotlib import pyplot as plt\n",
        "from matplotlib.colors import Normalize\n",
        "import matplotlib.cm as cm"
      ],
      "metadata": {
        "id": "xDX_sPJiPqIS"
      },
      "execution_count": null,
      "outputs": []
    },
    {
      "cell_type": "code",
      "source": [
        "img0 = cv2.imread('/content/fashion_mnist/00000.jpg')\n",
        "img1 = cv2.imread('/content/fashion_mnist/00005.jpg')\n",
        "img2 = cv2.imread('/content/fashion_mnist/00003.jpg')\n",
        "img3 = cv2.imread('/content/fashion_mnist/00001.jpg')\n",
        "img4 = cv2.imread('/content/fashion_mnist/00002.jpg')\n",
        "img5 = cv2.imread('/content/fashion_mnist/00004.jpg')\n",
        "img6 = cv2.imread('/content/fashion_mnist/00006.jpg')\n",
        "img7 = cv2.imread('/content/fashion_mnist/00007.jpg')\n",
        "img8 = cv2.imread('/content/fashion_mnist/00008.jpg')\n",
        "img9 = cv2.imread('/content/fashion_mnist/00009.jpg')"
      ],
      "metadata": {
        "id": "8NHKrZ7APux0"
      },
      "execution_count": null,
      "outputs": []
    },
    {
      "cell_type": "code",
      "source": [
        "# create figure\n",
        "fig = plt.figure(figsize=(15, 12))\n",
        "  \n",
        "# setting values to rows and column variables\n",
        "rows = 4\n",
        "columns = 3\n",
        "    \n",
        "# Adds a subplot at the 1st position\n",
        "fig.add_subplot(rows, columns, 1)\n",
        "  \n",
        "# showing image\n",
        "plt.imshow(img0)\n",
        "plt.axis('off')\n",
        "plt.title(\"First\")\n",
        "  \n",
        "# Adds a subplot at the 2nd position\n",
        "fig.add_subplot(rows, columns, 2)\n",
        "  \n",
        "# showing image\n",
        "plt.imshow(img1)\n",
        "plt.axis('off')\n",
        "plt.title(\"Second\")\n",
        "  \n",
        "# Adds a subplot at the 3rd position\n",
        "fig.add_subplot(rows, columns, 3)\n",
        "  \n",
        "# showing image\n",
        "plt.imshow(img2)\n",
        "plt.axis('off')\n",
        "plt.title(\"Third\")\n",
        "  \n",
        "# Adds a subplot at the 4th position\n",
        "fig.add_subplot(rows, columns, 4)\n",
        "  \n",
        "# showing image\n",
        "plt.imshow(img3)\n",
        "plt.axis('off')\n",
        "plt.title(\"Fourth\")\n",
        "\n",
        "# Adds a subplot at the 4th position\n",
        "fig.add_subplot(rows, columns, 5)\n",
        "  \n",
        "# showing image\n",
        "plt.imshow(img4)\n",
        "plt.axis('off')\n",
        "plt.title(\"Fifth\")\n",
        "\n",
        "# Adds a subplot at the 4th position\n",
        "fig.add_subplot(rows, columns, 6)\n",
        "  \n",
        "# showing image\n",
        "plt.imshow(img5)\n",
        "plt.axis('off')\n",
        "plt.title(\"Sixth\")\n",
        "\n",
        "# Adds a subplot at the 4th position\n",
        "fig.add_subplot(rows, columns, 7)\n",
        "  \n",
        "# showing image\n",
        "plt.imshow(img6)\n",
        "plt.axis('off')\n",
        "plt.title(\"Seventh\")\n",
        "\n",
        "# Adds a subplot at the 4th position\n",
        "fig.add_subplot(rows, columns, 8)\n",
        "  \n",
        "# showing image\n",
        "plt.imshow(img7)\n",
        "plt.axis('off')\n",
        "plt.title(\"Eight\")\n",
        "\n",
        "# Adds a subplot at the 4th position\n",
        "fig.add_subplot(rows, columns, 9)\n",
        "  \n",
        "# showing image\n",
        "plt.imshow(img8)\n",
        "plt.axis('off')\n",
        "plt.title(\"Ninth\")\n",
        "\n",
        "# Adds a subplot at the 4th position\n",
        "fig.add_subplot(rows, columns, 10)\n",
        "  \n",
        "# showing image\n",
        "plt.imshow(img9)\n",
        "plt.axis('off')\n",
        "plt.title(\"Tenth\")"
      ],
      "metadata": {
        "colab": {
          "base_uri": "https://localhost:8080/",
          "height": 716
        },
        "id": "VyNMIgGnmzbw",
        "outputId": "27e12eda-27dc-4e1c-d84d-906e5c13889c"
      },
      "execution_count": null,
      "outputs": [
        {
          "output_type": "execute_result",
          "data": {
            "text/plain": [
              "Text(0.5, 1.0, 'Tenth')"
            ]
          },
          "metadata": {},
          "execution_count": 131
        },
        {
          "output_type": "display_data",
          "data": {
            "text/plain": [
              "<Figure size 1080x864 with 10 Axes>"
            ],
            "image/png": "[encoded data removed]"
          },
          "metadata": {
            "needs_background": "light"
          }
        }
      ]
    },
    {
      "cell_type": "markdown",
      "source": [
        "###The height and width of the blocks is B=8. An image is imported and transformed to a grayscale image. Moreover, the image is cropped, such that its height and width is a multiple of the blocksize B."
      ],
      "metadata": {
        "id": "K1eSXhcuo_YI"
      }
    },
    {
      "cell_type": "code",
      "source": [
        "B=8 #blocksize\n",
        "fn0='/content/fashion_mnist/00000.jpg'\n",
        "img0 = cv2.imread(fn0, cv2.IMREAD_GRAYSCALE)\n",
        "h,w=np.array(img0.shape[:2])/B * B\n",
        "h=int(h)\n",
        "w=int(w)\n",
        "img0=img0[:h,:w]\n",
        "\n",
        "\n",
        "fn1='/content/fashion_mnist/00001.jpg'\n",
        "img1 = cv2.imread(fn1, cv2.IMREAD_GRAYSCALE)\n",
        "h,w=np.array(img1.shape[:2])/B * B\n",
        "h=int(h)\n",
        "w=int(w)\n",
        "img1=img1[:h,:w]\n",
        "\n",
        "fn2='/content/fashion_mnist/00002.jpg'\n",
        "img2 = cv2.imread(fn2, cv2.IMREAD_GRAYSCALE)\n",
        "h,w=np.array(img2.shape[:2])/B * B\n",
        "h=int(h)\n",
        "w=int(w)\n",
        "img2=img2[:h,:w]\n",
        "\n",
        "fn3='/content/fashion_mnist/00003.jpg'\n",
        "img3 = cv2.imread(fn3, cv2.IMREAD_GRAYSCALE)\n",
        "h,w=np.array(img3.shape[:2])/B * B\n",
        "h=int(h)\n",
        "w=int(w)\n",
        "img3=img3[:h,:w]\n",
        "\n",
        "fn4='/content/fashion_mnist/00004.jpg'\n",
        "img4 = cv2.imread(fn4, cv2.IMREAD_GRAYSCALE)\n",
        "h,w=np.array(img4.shape[:2])/B * B\n",
        "h=int(h)\n",
        "w=int(w)\n",
        "img4=img4[:h,:w]\n",
        "\n",
        "fn5='/content/fashion_mnist/00005.jpg'\n",
        "img5 = cv2.imread(fn5, cv2.IMREAD_GRAYSCALE)\n",
        "h,w=np.array(img5.shape[:2])/B * B\n",
        "h=int(h)\n",
        "w=int(w)\n",
        "img15=img5[:h,:w]\n",
        "\n",
        "fn6='/content/fashion_mnist/00006.jpg'\n",
        "img6 = cv2.imread(fn6, cv2.IMREAD_GRAYSCALE)\n",
        "h,w=np.array(img6.shape[:2])/B * B\n",
        "h=int(h)\n",
        "w=int(w)\n",
        "img6=img6[:h,:w]\n",
        "\n",
        "fn7='/content/fashion_mnist/00007.jpg'\n",
        "img7 = cv2.imread(fn7, cv2.IMREAD_GRAYSCALE)\n",
        "h,w=np.array(img7.shape[:2])/B * B\n",
        "h=int(h)\n",
        "w=int(w)\n",
        "img7=img7[:h,:w]\n",
        "\n",
        "fn8='/content/fashion_mnist/00008.jpg'\n",
        "img8 = cv2.imread(fn8, cv2.IMREAD_GRAYSCALE)\n",
        "h,w=np.array(img1.shape[:2])/B * B\n",
        "h=int(h)\n",
        "w=int(w)\n",
        "img8=img8[:h,:w]\n",
        "\n",
        "fn9='/content/fashion_mnist/00009.jpg'\n",
        "img9 = cv2.imread(fn9, cv2.IMREAD_GRAYSCALE)\n",
        "h,w=np.array(img9.shape[:2])/B * B\n",
        "h=int(h)\n",
        "w=int(w)\n",
        "img9=img9[:h,:w]"
      ],
      "metadata": {
        "id": "Z7LYf8KkP1TL"
      },
      "execution_count": null,
      "outputs": []
    },
    {
      "cell_type": "markdown",
      "source": [
        "###For each block in the image the DCT is applied. The transformed image is stored in the variable Trans and it is saved to the file Transformed.jpg:"
      ],
      "metadata": {
        "id": "eKWSQXNppGLQ"
      }
    },
    {
      "cell_type": "code",
      "source": [
        "blocksV=int(h/B)\n",
        "blocksH=int(w/B)\n",
        "vis0 = np.zeros((h,w), np.float32)\n",
        "Trans0 = np.zeros((h,w), np.float32)\n",
        "vis0[:h, :w] = img0\n",
        "for row in range(blocksV):\n",
        "        for col in range(blocksH):\n",
        "                currentblock = cv2.dct(vis0[row*B:(row+1)*B,col*B:(col+1)*B])\n",
        "                Trans0[row*B:(row+1)*B,col*B:(col+1)*B]=currentblock\n",
        "cv2.imwrite('Transformed0.jpg', Trans0)\n",
        "\n",
        "\n",
        "Trans1 = np.zeros((h,w), np.float32)\n",
        "vis0[:h, :w] = img1\n",
        "for row in range(blocksV):\n",
        "        for col in range(blocksH):\n",
        "                currentblock = cv2.dct(vis0[row*B:(row+1)*B,col*B:(col+1)*B])\n",
        "                Trans1[row*B:(row+1)*B,col*B:(col+1)*B]=currentblock\n",
        "cv2.imwrite('Transformed1.jpg', Trans1)\n",
        "\n",
        "\n",
        "Trans2 = np.zeros((h,w), np.float32)\n",
        "vis0[:h, :w] = img2\n",
        "for row in range(blocksV):\n",
        "        for col in range(blocksH):\n",
        "                currentblock = cv2.dct(vis0[row*B:(row+1)*B,col*B:(col+1)*B])\n",
        "                Trans2[row*B:(row+1)*B,col*B:(col+1)*B]=currentblock\n",
        "cv2.imwrite('Transformed2.jpg', Trans2)\n",
        "\n",
        "\n",
        "Trans3 = np.zeros((h,w), np.float32)\n",
        "vis0[:h, :w] = img3\n",
        "for row in range(blocksV):\n",
        "        for col in range(blocksH):\n",
        "                currentblock = cv2.dct(vis0[row*B:(row+1)*B,col*B:(col+1)*B])\n",
        "                Trans3[row*B:(row+1)*B,col*B:(col+1)*B]=currentblock\n",
        "cv2.imwrite('Transformed3.jpg', Trans3)\n",
        "\n",
        "\n",
        "Trans4 = np.zeros((h,w), np.float32)\n",
        "vis0[:h, :w] = img4\n",
        "for row in range(blocksV):\n",
        "        for col in range(blocksH):\n",
        "                currentblock = cv2.dct(vis0[row*B:(row+1)*B,col*B:(col+1)*B])\n",
        "                Trans4[row*B:(row+1)*B,col*B:(col+1)*B]=currentblock\n",
        "cv2.imwrite('Transformed4.jpg', Trans4)\n",
        "\n",
        "\n",
        "Trans5 = np.zeros((h,w), np.float32)\n",
        "vis0[:h, :w] = img5\n",
        "for row in range(blocksV):\n",
        "        for col in range(blocksH):\n",
        "                currentblock = cv2.dct(vis0[row*B:(row+1)*B,col*B:(col+1)*B])\n",
        "                Trans5[row*B:(row+1)*B,col*B:(col+1)*B]=currentblock\n",
        "cv2.imwrite('Transformed5.jpg', Trans5)\n",
        "\n",
        "\n",
        "Trans6 = np.zeros((h,w), np.float32)\n",
        "vis0[:h, :w] = img6\n",
        "for row in range(blocksV):\n",
        "        for col in range(blocksH):\n",
        "                currentblock = cv2.dct(vis0[row*B:(row+1)*B,col*B:(col+1)*B])\n",
        "                Trans6[row*B:(row+1)*B,col*B:(col+1)*B]=currentblock\n",
        "cv2.imwrite('Transformed6.jpg', Trans6)\n",
        "\n",
        "\n",
        "Trans7 = np.zeros((h,w), np.float32)\n",
        "vis0[:h, :w] = img7\n",
        "for row in range(blocksV):\n",
        "        for col in range(blocksH):\n",
        "                currentblock = cv2.dct(vis0[row*B:(row+1)*B,col*B:(col+1)*B])\n",
        "                Trans7[row*B:(row+1)*B,col*B:(col+1)*B]=currentblock\n",
        "cv2.imwrite('Transformed7.jpg', Trans7)\n",
        "\n",
        "\n",
        "Trans8 = np.zeros((h,w), np.float32)\n",
        "vis0[:h, :w] = img8\n",
        "for row in range(blocksV):\n",
        "        for col in range(blocksH):\n",
        "                currentblock = cv2.dct(vis0[row*B:(row+1)*B,col*B:(col+1)*B])\n",
        "                Trans8[row*B:(row+1)*B,col*B:(col+1)*B]=currentblock\n",
        "cv2.imwrite('Transformed8.jpg', Trans8)\n",
        "\n",
        "\n",
        "Trans9 = np.zeros((h,w), np.float32)\n",
        "vis0[:h, :w] = img9\n",
        "for row in range(blocksV):\n",
        "        for col in range(blocksH):\n",
        "                currentblock = cv2.dct(vis0[row*B:(row+1)*B,col*B:(col+1)*B])\n",
        "                Trans9[row*B:(row+1)*B,col*B:(col+1)*B]=currentblock\n",
        "cv2.imwrite('Transformed9.jpg', Trans9)"
      ],
      "metadata": {
        "colab": {
          "base_uri": "https://localhost:8080/"
        },
        "id": "3Wbz413BQxhQ",
        "outputId": "ae3d54b5-2a36-4320-e015-df97f90749b9"
      },
      "execution_count": null,
      "outputs": [
        {
          "output_type": "execute_result",
          "data": {
            "text/plain": [
              "True"
            ]
          },
          "metadata": {},
          "execution_count": 133
        }
      ]
    },
    {
      "cell_type": "code",
      "source": [
        "Transformed_image0 = cv2.imread('Transformed0.jpg')\n",
        "Transformed_image1 = cv2.imread('Transformed1.jpg')\n",
        "Transformed_image2 = cv2.imread('Transformed2.jpg')\n",
        "Transformed_image3 = cv2.imread('Transformed3.jpg')\n",
        "Transformed_image4 = cv2.imread('Transformed4.jpg')\n",
        "Transformed_image5 = cv2.imread('Transformed5.jpg')\n",
        "Transformed_image6 = cv2.imread('Transformed6.jpg')\n",
        "Transformed_image7 = cv2.imread('Transformed7.jpg')\n",
        "Transformed_image8 = cv2.imread('Transformed8.jpg')\n",
        "Transformed_image9 = cv2.imread('Transformed9.jpg')"
      ],
      "metadata": {
        "id": "k_DVt_7yTbo7"
      },
      "execution_count": null,
      "outputs": []
    },
    {
      "cell_type": "code",
      "source": [
        "# create figure\n",
        "fig = plt.figure(figsize=(15, 12))\n",
        "  \n",
        "# setting values to rows and column variables\n",
        "rows = 4\n",
        "columns = 3\n",
        "    \n",
        "# Adds a subplot at the 1st position\n",
        "fig.add_subplot(rows, columns, 1)\n",
        "  \n",
        "# showing image\n",
        "plt.imshow(Transformed_image0)\n",
        "plt.axis('off')\n",
        "plt.title(\"First\")\n",
        "  \n",
        "# Adds a subplot at the 2nd position\n",
        "fig.add_subplot(rows, columns, 2)\n",
        "  \n",
        "# showing image\n",
        "plt.imshow(Transformed_image1)\n",
        "plt.axis('off')\n",
        "plt.title(\"Second\")\n",
        "  \n",
        "# Adds a subplot at the 3rd position\n",
        "fig.add_subplot(rows, columns, 3)\n",
        "  \n",
        "# showing image\n",
        "plt.imshow(Transformed_image2)\n",
        "plt.axis('off')\n",
        "plt.title(\"Third\")\n",
        "  \n",
        "# Adds a subplot at the 4th position\n",
        "fig.add_subplot(rows, columns, 4)\n",
        "  \n",
        "# showing image\n",
        "plt.imshow(Transformed_image3)\n",
        "plt.axis('off')\n",
        "plt.title(\"Fourth\")\n",
        "\n",
        "# Adds a subplot at the 4th position\n",
        "fig.add_subplot(rows, columns, 5)\n",
        "  \n",
        "# showing image\n",
        "plt.imshow(Transformed_image4)\n",
        "plt.axis('off')\n",
        "plt.title(\"Fifth\")\n",
        "\n",
        "# Adds a subplot at the 4th position\n",
        "fig.add_subplot(rows, columns, 6)\n",
        "  \n",
        "# showing image\n",
        "plt.imshow(Transformed_image5)\n",
        "plt.axis('off')\n",
        "plt.title(\"Sixth\")\n",
        "\n",
        "# Adds a subplot at the 4th position\n",
        "fig.add_subplot(rows, columns, 7)\n",
        "  \n",
        "# showing image\n",
        "plt.imshow(Transformed_image6)\n",
        "plt.axis('off')\n",
        "plt.title(\"Seventh\")\n",
        "\n",
        "# Adds a subplot at the 4th position\n",
        "fig.add_subplot(rows, columns, 8)\n",
        "  \n",
        "# showing image\n",
        "plt.imshow(Transformed_image7)\n",
        "plt.axis('off')\n",
        "plt.title(\"Eight\")\n",
        "\n",
        "# Adds a subplot at the 4th position\n",
        "fig.add_subplot(rows, columns, 9)\n",
        "  \n",
        "# showing image\n",
        "plt.imshow(Transformed_image8)\n",
        "plt.axis('off')\n",
        "plt.title(\"Ninth\")\n",
        "\n",
        "# Adds a subplot at the 4th position\n",
        "fig.add_subplot(rows, columns, 10)\n",
        "  \n",
        "# showing image\n",
        "plt.imshow(Transformed_image9)\n",
        "plt.axis('off')\n",
        "plt.title(\"Tenth\")"
      ],
      "metadata": {
        "colab": {
          "base_uri": "https://localhost:8080/",
          "height": 716
        },
        "id": "Qtt8lrxNW8o5",
        "outputId": "0794a25f-e816-43ba-ba72-a3d4cc647976"
      },
      "execution_count": null,
      "outputs": [
        {
          "output_type": "execute_result",
          "data": {
            "text/plain": [
              "Text(0.5, 1.0, 'Tenth')"
            ]
          },
          "metadata": {},
          "execution_count": 135
        },
        {
          "output_type": "display_data",
          "data": {
            "text/plain": [
              "<Figure size 1080x864 with 10 Axes>"
            ],
            "image/png": "[encoded data removed]"
          },
          "metadata": {
            "needs_background": "light"
          }
        }
      ]
    },
    {
      "cell_type": "markdown",
      "source": [
        "Then the IDCT is applied to reconstruct the original image from the transformed representation. The reconstructed image is stored in the variable back0 and it is saved to the file BackTransformed.jpg"
      ],
      "metadata": {
        "id": "kC2Gmv87pLnu"
      }
    },
    {
      "cell_type": "code",
      "source": [
        "back0 = np.zeros((h,w), np.float32)\n",
        "for row in range(blocksV):\n",
        "        for col in range(blocksH):\n",
        "                currentblock = cv2.idct(Trans0[row*B:(row+1)*B,col*B:(col+1)*B])\n",
        "                back0[row*B:(row+1)*B,col*B:(col+1)*B]=currentblock\n",
        "cv2.imwrite('BackTransformed0.jpg', back0)"
      ],
      "metadata": {
        "colab": {
          "base_uri": "https://localhost:8080/"
        },
        "id": "5Kk6cEJCZ9pB",
        "outputId": "bb8fe014-c2ca-45c5-b9eb-905aba8ade27"
      },
      "execution_count": null,
      "outputs": [
        {
          "output_type": "execute_result",
          "data": {
            "text/plain": [
              "True"
            ]
          },
          "metadata": {},
          "execution_count": 136
        }
      ]
    },
    {
      "cell_type": "code",
      "source": [
        "BackTransformed_image0 = cv2.imread('BackTransformed0.jpg')\n",
        "plt.imshow(BackTransformed_image0)"
      ],
      "metadata": {
        "colab": {
          "base_uri": "https://localhost:8080/",
          "height": 282
        },
        "id": "INj_GE5IndVX",
        "outputId": "9518e6dc-681b-472e-a791-560c2fa1ca07"
      },
      "execution_count": null,
      "outputs": [
        {
          "output_type": "execute_result",
          "data": {
            "text/plain": [
              "<matplotlib.image.AxesImage at 0x7f1ae154c7d0>"
            ]
          },
          "metadata": {},
          "execution_count": 137
        },
        {
          "output_type": "display_data",
          "data": {
            "text/plain": [
              "<Figure size 432x288 with 1 Axes>"
            ],
            "image/png": "[encoded data removed]"
          },
          "metadata": {
            "needs_background": "light"
          }
        }
      ]
    },
    {
      "cell_type": "code",
      "source": [
        ""
      ],
      "metadata": {
        "id": "1CwZt2MankfQ"
      },
      "execution_count": null,
      "outputs": []
    }
  ]
}